{
  "nbformat": 4,
  "nbformat_minor": 0,
  "metadata": {
    "colab": {
      "provenance": [],
      "include_colab_link": true
    },
    "kernelspec": {
      "name": "python3",
      "display_name": "Python 3"
    },
    "language_info": {
      "name": "python"
    }
  },
  "cells": [
    {
      "cell_type": "markdown",
      "metadata": {
        "id": "view-in-github",
        "colab_type": "text"
      },
      "source": [
        "<a href=\"https://colab.research.google.com/github/Uttamkannantha/BlockchainIot/blob/master/Kannantha_Balkattu_Shreekantha_Uttam_Final_Project.ipynb\" target=\"_parent\"><img src=\"https://colab.research.google.com/assets/colab-badge.svg\" alt=\"Open In Colab\"/></a>"
      ]
    },
    {
      "cell_type": "markdown",
      "source": [],
      "metadata": {
        "id": "iqzwnoIymINN"
      }
    },
    {
      "cell_type": "markdown",
      "source": [
        "Transfer Learning for Image Classification"
      ],
      "metadata": {
        "id": "MPNE8Ow-mKnG"
      }
    },
    {
      "cell_type": "markdown",
      "source": [
        "(a)\n",
        "In this problem, we are trying to build a classifier that distinguishes images of 20 bird species. You are provided with text data in twenty folders."
      ],
      "metadata": {
        "id": "m7St41rYmP0K"
      }
    },
    {
      "cell_type": "code",
      "source": [
        "import pandas as pd\n",
        "import numpy as np\n",
        "import os\n",
        "import random\n",
        "import cv2"
      ],
      "metadata": {
        "id": "fGCXvVxQmQg9"
      },
      "execution_count": 1,
      "outputs": []
    },
    {
      "cell_type": "markdown",
      "source": [
        "(b)\n",
        "Data Exploration and Pre-processing"
      ],
      "metadata": {
        "id": "qTyVulrBH0SY"
      }
    },
    {
      "cell_type": "markdown",
      "source": [
        "i.\n",
        "Images in each class are given in separate folders. The file\n",
        "Classes.xlsx\n",
        "pro-\n",
        "vides the classes assigned to the bird species images in each folder. Therefore,\n",
        "you encode your classes using one-hot encoding and\n",
        "Classes.xlsx\n",
        "."
      ],
      "metadata": {
        "id": "9IDYVTB_H1iR"
      }
    },
    {
      "cell_type": "code",
      "source": [],
      "metadata": {
        "id": "2QtWok2rH5aS"
      },
      "execution_count": null,
      "outputs": []
    },
    {
      "cell_type": "markdown",
      "source": [],
      "metadata": {
        "id": "XZNoRDN0HRbm"
      }
    }
  ]
}